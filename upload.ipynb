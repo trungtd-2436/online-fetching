{
 "cells": [
  {
   "cell_type": "code",
   "execution_count": 2,
   "metadata": {},
   "outputs": [],
   "source": [
    "from tqdm import tqdm\n",
    "from pathlib import Path\n",
    "import cv2\n",
    "import datetime\n",
    "import boto3\n",
    "from botocore.client import Config"
   ]
  },
  {
   "cell_type": "code",
   "execution_count": 3,
   "metadata": {},
   "outputs": [],
   "source": [
    "s3 = boto3.resource(\n",
    "    \"s3\",\n",
    "    endpoint_url=\"http://localhost:9000\",\n",
    "    aws_access_key_id=\"username\",\n",
    "    aws_secret_access_key=\"password\",\n",
    "    config=Config(signature_version=\"s3v4\"),\n",
    "    region_name=\"us-east-1\",\n",
    ")"
   ]
  },
  {
   "cell_type": "code",
   "execution_count": 4,
   "metadata": {},
   "outputs": [],
   "source": [
    "with open(\"./batch_0.txt\") as f:\n",
    "    paths = [\n",
    "        list(map(lambda x: x.strip(), string.split(\"\\t\"))) for string in f.readlines()\n",
    "    ]"
   ]
  },
  {
   "cell_type": "code",
   "execution_count": 5,
   "metadata": {},
   "outputs": [],
   "source": [
    "DATA_DIR = Path(\"data\")"
   ]
  },
  {
   "cell_type": "code",
   "execution_count": 7,
   "metadata": {},
   "outputs": [
    {
     "name": "stderr",
     "output_type": "stream",
     "text": [
      "100%|██████████| 50000/50000 [18:58<00:00, 43.94it/s]\n"
     ]
    }
   ],
   "source": [
    "project = \"online_fetching\"\n",
    "\n",
    "for path in tqdm(paths):\n",
    "    path, label = path\n",
    "    img = cv2.imread(str(DATA_DIR / Path(path).name))\n",
    "    if img is None:\n",
    "        continue\n",
    "\n",
    "    height, width = img.shape[:2]\n",
    "\n",
    "    s3.Bucket(\"data\").upload_file(\n",
    "        str(DATA_DIR / Path(path).name),\n",
    "        f\"{project}/{ datetime.datetime.now().strftime('%Y%m%d')}/{Path(path).name}\",\n",
    "        ExtraArgs={\n",
    "            \"ContentType\": \"image/jpeg\",\n",
    "            \"Metadata\": {\"height\": str(height), \"width\": str(width)},\n",
    "        },\n",
    "    )"
   ]
  }
 ],
 "metadata": {
  "kernelspec": {
   "display_name": "Python 3.5.2 64-bit",
   "language": "python",
   "name": "python3"
  },
  "language_info": {
   "codemirror_mode": {
    "name": "ipython",
    "version": 3
   },
   "file_extension": ".py",
   "mimetype": "text/x-python",
   "name": "python",
   "nbconvert_exporter": "python",
   "pygments_lexer": "ipython3",
   "version": "3.5.2"
  },
  "orig_nbformat": 4,
  "vscode": {
   "interpreter": {
    "hash": "31f2aee4e71d21fbe5cf8b01ff0e069b9275f58929596ceb00d14d90e3e16cd6"
   }
  }
 },
 "nbformat": 4,
 "nbformat_minor": 2
}
